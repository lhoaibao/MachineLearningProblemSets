{
  "nbformat": 4,
  "nbformat_minor": 0,
  "metadata": {
    "kernelspec": {
      "display_name": "Python 3",
      "language": "python",
      "name": "python3"
    },
    "language_info": {
      "codemirror_mode": {
        "name": "ipython",
        "version": 3
      },
      "file_extension": ".py",
      "mimetype": "text/x-python",
      "name": "python",
      "nbconvert_exporter": "python",
      "pygments_lexer": "ipython3",
      "version": "3.7.3"
    },
    "colab": {
      "name": "Copy of Team 1 - Chocolate Bar.ipynb",
      "provenance": [],
      "collapsed_sections": []
    }
  },
  "cells": [
    {
      "cell_type": "markdown",
      "metadata": {
        "id": "qWMEVAv-1UB1",
        "colab_type": "text"
      },
      "source": [
        "# Team 1 - Chocolate Bar\n",
        "\n",
        "![](https://img.newatlas.com/cocoa-tree-domestication-chocolate-1.jpg?auto=format%2Ccompress&ch=Width%2CDPR&fit=crop&h=347&q=60&rect=0%2C18%2C1620%2C911&w=616&s=2c0f902d21b734d77c99fd13171fb979)\n",
        "\n",
        "_For more information about the dataset, read [here](https://www.kaggle.com/rtatman/chocolate-bar-ratings)._\n",
        "\n",
        "## Your tasks\n",
        "- Name your team!\n",
        "- Read the source and do some quick research to understand more about the dataset and its topic\n",
        "- Clean the data\n",
        "- Perform Exploratory Data Analysis on the dataset\n",
        "- Analyze the data more deeply and extract insights\n",
        "- Visualize your analysis on Google Data Studio\n",
        "- Present your works in front of the class and guests next Monday\n",
        "\n",
        "## Submission Guide\n",
        "- Create a Github repository for your project\n",
        "- Upload the dataset (.csv file) and the Jupyter Notebook to your Github repository. In the Jupyter Notebook, **include the link to your Google Data Studio report**.\n",
        "- Submit your works through this [Google Form](https://forms.gle/oxtXpGfS8JapVj3V8).\n",
        "\n",
        "## Tips for Data Cleaning, Manipulation & Visualization\n",
        "- Here are some of our tips for Data Cleaning, Manipulation & Visualization. [Click here](https://hackmd.io/cBNV7E6TT2WMliQC-GTw1A)\n",
        "\n",
        "_____________________________\n",
        "\n",
        "## Some Hints for This Dataset:\n",
        "- There are lots of poorly labeled data in `Broad Bean Origin` column.\n",
        "- There are some rows in `Broad Bean Origin` with multiple values, those values will create errors in our data. \n",
        "- How can we get rid of the `%` sign in `Cocoa Percent` column?\n",
        "- And more..."
      ]
    },
    {
      "cell_type": "markdown",
      "metadata": {
        "id": "VUPhWTW42Yof",
        "colab_type": "text"
      },
      "source": [
        "# Copicode Team\n",
        "\n",
        "### Member:\n",
        "\n",
        "- Lê Hoài Bảo\n",
        "- Ngô Bá Hoàng Thiên"
      ]
    },
    {
      "cell_type": "markdown",
      "metadata": {
        "id": "cCaeQjOjolKw",
        "colab_type": "text"
      },
      "source": [
        "## Question:\n",
        "- Where are the best cocoa beans grown?\n",
        "- Which countries produce the highest-rated bars?\n",
        "- What’s the relationship between cocoa solids percentage and rating?"
      ]
    },
    {
      "cell_type": "code",
      "metadata": {
        "id": "ILqNL2O71UB3",
        "colab_type": "code",
        "colab": {}
      },
      "source": [
        "# import all the package\n",
        "\n",
        "import pandas as pd\n",
        "import numpy as np\n",
        "import seaborn as sns\n",
        "import matplotlib.pyplot as plt"
      ],
      "execution_count": 0,
      "outputs": []
    },
    {
      "cell_type": "code",
      "metadata": {
        "id": "FnAChRwo1yd2",
        "colab_type": "code",
        "outputId": "58b92c0d-c686-4dbc-ffe7-6479f97f8620",
        "colab": {
          "base_uri": "https://localhost:8080/",
          "height": 441
        }
      },
      "source": [
        "# read the data\n",
        "\n",
        "chocolate_bar_df = pd.read_csv(\"./chocolate.csv\")\n",
        "chocolate_bar_df"
      ],
      "execution_count": 0,
      "outputs": [
        {
          "output_type": "execute_result",
          "data": {
            "text/html": [
              "<div>\n",
              "<style scoped>\n",
              "    .dataframe tbody tr th:only-of-type {\n",
              "        vertical-align: middle;\n",
              "    }\n",
              "\n",
              "    .dataframe tbody tr th {\n",
              "        vertical-align: top;\n",
              "    }\n",
              "\n",
              "    .dataframe thead th {\n",
              "        text-align: right;\n",
              "    }\n",
              "</style>\n",
              "<table border=\"1\" class=\"dataframe\">\n",
              "  <thead>\n",
              "    <tr style=\"text-align: right;\">\n",
              "      <th></th>\n",
              "      <th>Company \\n(Maker-if known)</th>\n",
              "      <th>Specific Bean Origin\\nor Bar Name</th>\n",
              "      <th>REF</th>\n",
              "      <th>Review\\nDate</th>\n",
              "      <th>Cocoa\\nPercent</th>\n",
              "      <th>Company\\nLocation</th>\n",
              "      <th>Rating</th>\n",
              "      <th>Bean\\nType</th>\n",
              "      <th>Broad Bean\\nOrigin</th>\n",
              "    </tr>\n",
              "  </thead>\n",
              "  <tbody>\n",
              "    <tr>\n",
              "      <th>0</th>\n",
              "      <td>A. Morin</td>\n",
              "      <td>Agua Grande</td>\n",
              "      <td>1876</td>\n",
              "      <td>2016</td>\n",
              "      <td>63%</td>\n",
              "      <td>France</td>\n",
              "      <td>3.75</td>\n",
              "      <td></td>\n",
              "      <td>Sao Tome</td>\n",
              "    </tr>\n",
              "    <tr>\n",
              "      <th>1</th>\n",
              "      <td>A. Morin</td>\n",
              "      <td>Kpime</td>\n",
              "      <td>1676</td>\n",
              "      <td>2015</td>\n",
              "      <td>70%</td>\n",
              "      <td>France</td>\n",
              "      <td>2.75</td>\n",
              "      <td></td>\n",
              "      <td>Togo</td>\n",
              "    </tr>\n",
              "    <tr>\n",
              "      <th>2</th>\n",
              "      <td>A. Morin</td>\n",
              "      <td>Atsane</td>\n",
              "      <td>1676</td>\n",
              "      <td>2015</td>\n",
              "      <td>70%</td>\n",
              "      <td>France</td>\n",
              "      <td>3.00</td>\n",
              "      <td></td>\n",
              "      <td>Togo</td>\n",
              "    </tr>\n",
              "    <tr>\n",
              "      <th>3</th>\n",
              "      <td>A. Morin</td>\n",
              "      <td>Akata</td>\n",
              "      <td>1680</td>\n",
              "      <td>2015</td>\n",
              "      <td>70%</td>\n",
              "      <td>France</td>\n",
              "      <td>3.50</td>\n",
              "      <td></td>\n",
              "      <td>Togo</td>\n",
              "    </tr>\n",
              "    <tr>\n",
              "      <th>4</th>\n",
              "      <td>A. Morin</td>\n",
              "      <td>Quilla</td>\n",
              "      <td>1704</td>\n",
              "      <td>2015</td>\n",
              "      <td>70%</td>\n",
              "      <td>France</td>\n",
              "      <td>3.50</td>\n",
              "      <td></td>\n",
              "      <td>Peru</td>\n",
              "    </tr>\n",
              "    <tr>\n",
              "      <th>...</th>\n",
              "      <td>...</td>\n",
              "      <td>...</td>\n",
              "      <td>...</td>\n",
              "      <td>...</td>\n",
              "      <td>...</td>\n",
              "      <td>...</td>\n",
              "      <td>...</td>\n",
              "      <td>...</td>\n",
              "      <td>...</td>\n",
              "    </tr>\n",
              "    <tr>\n",
              "      <th>1790</th>\n",
              "      <td>Zotter</td>\n",
              "      <td>Peru</td>\n",
              "      <td>647</td>\n",
              "      <td>2011</td>\n",
              "      <td>70%</td>\n",
              "      <td>Austria</td>\n",
              "      <td>3.75</td>\n",
              "      <td></td>\n",
              "      <td>Peru</td>\n",
              "    </tr>\n",
              "    <tr>\n",
              "      <th>1791</th>\n",
              "      <td>Zotter</td>\n",
              "      <td>Congo</td>\n",
              "      <td>749</td>\n",
              "      <td>2011</td>\n",
              "      <td>65%</td>\n",
              "      <td>Austria</td>\n",
              "      <td>3.00</td>\n",
              "      <td>Forastero</td>\n",
              "      <td>Congo</td>\n",
              "    </tr>\n",
              "    <tr>\n",
              "      <th>1792</th>\n",
              "      <td>Zotter</td>\n",
              "      <td>Kerala State</td>\n",
              "      <td>749</td>\n",
              "      <td>2011</td>\n",
              "      <td>65%</td>\n",
              "      <td>Austria</td>\n",
              "      <td>3.50</td>\n",
              "      <td>Forastero</td>\n",
              "      <td>India</td>\n",
              "    </tr>\n",
              "    <tr>\n",
              "      <th>1793</th>\n",
              "      <td>Zotter</td>\n",
              "      <td>Kerala State</td>\n",
              "      <td>781</td>\n",
              "      <td>2011</td>\n",
              "      <td>62%</td>\n",
              "      <td>Austria</td>\n",
              "      <td>3.25</td>\n",
              "      <td></td>\n",
              "      <td>India</td>\n",
              "    </tr>\n",
              "    <tr>\n",
              "      <th>1794</th>\n",
              "      <td>Zotter</td>\n",
              "      <td>Brazil, Mitzi Blue</td>\n",
              "      <td>486</td>\n",
              "      <td>2010</td>\n",
              "      <td>65%</td>\n",
              "      <td>Austria</td>\n",
              "      <td>3.00</td>\n",
              "      <td></td>\n",
              "      <td>Brazil</td>\n",
              "    </tr>\n",
              "  </tbody>\n",
              "</table>\n",
              "<p>1795 rows × 9 columns</p>\n",
              "</div>"
            ],
            "text/plain": [
              "     Company \\n(Maker-if known)  ... Broad Bean\\nOrigin\n",
              "0                      A. Morin  ...           Sao Tome\n",
              "1                      A. Morin  ...               Togo\n",
              "2                      A. Morin  ...               Togo\n",
              "3                      A. Morin  ...               Togo\n",
              "4                      A. Morin  ...               Peru\n",
              "...                         ...  ...                ...\n",
              "1790                     Zotter  ...               Peru\n",
              "1791                     Zotter  ...              Congo\n",
              "1792                     Zotter  ...              India\n",
              "1793                     Zotter  ...              India\n",
              "1794                     Zotter  ...             Brazil\n",
              "\n",
              "[1795 rows x 9 columns]"
            ]
          },
          "metadata": {
            "tags": []
          },
          "execution_count": 14
        }
      ]
    },
    {
      "cell_type": "code",
      "metadata": {
        "id": "3XrfxRObu_ZN",
        "colab_type": "code",
        "colab": {}
      },
      "source": [
        "# Now we see that name of columns is not good right. So we fix it for easy to see and using\n",
        "old_columns = chocolate_bar_df.columns\n",
        "new_columns = [\"Company\", \"Species\", \"REF\", \"Review_year\", \"Cocoa_percent\", \"Company_location\", \"Rating\", \"Type\", \"Country_collect\"]\n",
        "chocolate_bar_df = chocolate_bar_df.rename(columns=dict(zip(old_columns,new_columns)))"
      ],
      "execution_count": 0,
      "outputs": []
    },
    {
      "cell_type": "code",
      "metadata": {
        "id": "cmgRgH50AqMy",
        "colab_type": "code",
        "outputId": "df9d2b76-b06a-40f9-d3b7-de975612ccc7",
        "colab": {
          "base_uri": "https://localhost:8080/",
          "height": 300
        }
      },
      "source": [
        "# read decribe\n",
        "\n",
        "chocolate_bar_df.describe()"
      ],
      "execution_count": 0,
      "outputs": [
        {
          "output_type": "execute_result",
          "data": {
            "text/html": [
              "<div>\n",
              "<style scoped>\n",
              "    .dataframe tbody tr th:only-of-type {\n",
              "        vertical-align: middle;\n",
              "    }\n",
              "\n",
              "    .dataframe tbody tr th {\n",
              "        vertical-align: top;\n",
              "    }\n",
              "\n",
              "    .dataframe thead th {\n",
              "        text-align: right;\n",
              "    }\n",
              "</style>\n",
              "<table border=\"1\" class=\"dataframe\">\n",
              "  <thead>\n",
              "    <tr style=\"text-align: right;\">\n",
              "      <th></th>\n",
              "      <th>REF</th>\n",
              "      <th>Review_year</th>\n",
              "      <th>Rating</th>\n",
              "    </tr>\n",
              "  </thead>\n",
              "  <tbody>\n",
              "    <tr>\n",
              "      <th>count</th>\n",
              "      <td>1795.000000</td>\n",
              "      <td>1795.000000</td>\n",
              "      <td>1795.000000</td>\n",
              "    </tr>\n",
              "    <tr>\n",
              "      <th>mean</th>\n",
              "      <td>1035.904735</td>\n",
              "      <td>2012.325348</td>\n",
              "      <td>3.185933</td>\n",
              "    </tr>\n",
              "    <tr>\n",
              "      <th>std</th>\n",
              "      <td>552.886365</td>\n",
              "      <td>2.927210</td>\n",
              "      <td>0.478062</td>\n",
              "    </tr>\n",
              "    <tr>\n",
              "      <th>min</th>\n",
              "      <td>5.000000</td>\n",
              "      <td>2006.000000</td>\n",
              "      <td>1.000000</td>\n",
              "    </tr>\n",
              "    <tr>\n",
              "      <th>25%</th>\n",
              "      <td>576.000000</td>\n",
              "      <td>2010.000000</td>\n",
              "      <td>2.875000</td>\n",
              "    </tr>\n",
              "    <tr>\n",
              "      <th>50%</th>\n",
              "      <td>1069.000000</td>\n",
              "      <td>2013.000000</td>\n",
              "      <td>3.250000</td>\n",
              "    </tr>\n",
              "    <tr>\n",
              "      <th>75%</th>\n",
              "      <td>1502.000000</td>\n",
              "      <td>2015.000000</td>\n",
              "      <td>3.500000</td>\n",
              "    </tr>\n",
              "    <tr>\n",
              "      <th>max</th>\n",
              "      <td>1952.000000</td>\n",
              "      <td>2017.000000</td>\n",
              "      <td>5.000000</td>\n",
              "    </tr>\n",
              "  </tbody>\n",
              "</table>\n",
              "</div>"
            ],
            "text/plain": [
              "               REF  Review_year       Rating\n",
              "count  1795.000000  1795.000000  1795.000000\n",
              "mean   1035.904735  2012.325348     3.185933\n",
              "std     552.886365     2.927210     0.478062\n",
              "min       5.000000  2006.000000     1.000000\n",
              "25%     576.000000  2010.000000     2.875000\n",
              "50%    1069.000000  2013.000000     3.250000\n",
              "75%    1502.000000  2015.000000     3.500000\n",
              "max    1952.000000  2017.000000     5.000000"
            ]
          },
          "metadata": {
            "tags": []
          },
          "execution_count": 16
        }
      ]
    },
    {
      "cell_type": "code",
      "metadata": {
        "id": "TF2Td8HzBOXz",
        "colab_type": "code",
        "outputId": "0525ad15-2db0-4ff5-a649-2f74bd4fbb2d",
        "colab": {
          "base_uri": "https://localhost:8080/",
          "height": 274
        }
      },
      "source": [
        "# read info of data\n",
        "\n",
        "chocolate_bar_df.info()"
      ],
      "execution_count": 0,
      "outputs": [
        {
          "output_type": "stream",
          "text": [
            "<class 'pandas.core.frame.DataFrame'>\n",
            "RangeIndex: 1795 entries, 0 to 1794\n",
            "Data columns (total 9 columns):\n",
            "Company             1795 non-null object\n",
            "Species             1795 non-null object\n",
            "REF                 1795 non-null int64\n",
            "Review_year         1795 non-null int64\n",
            "Cocoa_percent       1795 non-null object\n",
            "Company_location    1795 non-null object\n",
            "Rating              1795 non-null float64\n",
            "Type                1794 non-null object\n",
            "Country_collect     1794 non-null object\n",
            "dtypes: float64(1), int64(2), object(6)\n",
            "memory usage: 126.3+ KB\n"
          ],
          "name": "stdout"
        }
      ]
    },
    {
      "cell_type": "code",
      "metadata": {
        "id": "TWY_lxT8lZGw",
        "colab_type": "code",
        "outputId": "36073a23-1989-4ede-a26a-12f6c48c7a76",
        "colab": {
          "base_uri": "https://localhost:8080/",
          "height": 206
        }
      },
      "source": [
        "# see first 5 rows\n",
        "chocolate_bar_df.head()"
      ],
      "execution_count": 0,
      "outputs": [
        {
          "output_type": "execute_result",
          "data": {
            "text/html": [
              "<div>\n",
              "<style scoped>\n",
              "    .dataframe tbody tr th:only-of-type {\n",
              "        vertical-align: middle;\n",
              "    }\n",
              "\n",
              "    .dataframe tbody tr th {\n",
              "        vertical-align: top;\n",
              "    }\n",
              "\n",
              "    .dataframe thead th {\n",
              "        text-align: right;\n",
              "    }\n",
              "</style>\n",
              "<table border=\"1\" class=\"dataframe\">\n",
              "  <thead>\n",
              "    <tr style=\"text-align: right;\">\n",
              "      <th></th>\n",
              "      <th>Company</th>\n",
              "      <th>Species</th>\n",
              "      <th>REF</th>\n",
              "      <th>Review_year</th>\n",
              "      <th>Cocoa_percent</th>\n",
              "      <th>Company_location</th>\n",
              "      <th>Rating</th>\n",
              "      <th>Type</th>\n",
              "      <th>Country_collect</th>\n",
              "    </tr>\n",
              "  </thead>\n",
              "  <tbody>\n",
              "    <tr>\n",
              "      <th>0</th>\n",
              "      <td>A. Morin</td>\n",
              "      <td>Agua Grande</td>\n",
              "      <td>1876</td>\n",
              "      <td>2016</td>\n",
              "      <td>63%</td>\n",
              "      <td>France</td>\n",
              "      <td>3.75</td>\n",
              "      <td></td>\n",
              "      <td>Sao Tome</td>\n",
              "    </tr>\n",
              "    <tr>\n",
              "      <th>1</th>\n",
              "      <td>A. Morin</td>\n",
              "      <td>Kpime</td>\n",
              "      <td>1676</td>\n",
              "      <td>2015</td>\n",
              "      <td>70%</td>\n",
              "      <td>France</td>\n",
              "      <td>2.75</td>\n",
              "      <td></td>\n",
              "      <td>Togo</td>\n",
              "    </tr>\n",
              "    <tr>\n",
              "      <th>2</th>\n",
              "      <td>A. Morin</td>\n",
              "      <td>Atsane</td>\n",
              "      <td>1676</td>\n",
              "      <td>2015</td>\n",
              "      <td>70%</td>\n",
              "      <td>France</td>\n",
              "      <td>3.00</td>\n",
              "      <td></td>\n",
              "      <td>Togo</td>\n",
              "    </tr>\n",
              "    <tr>\n",
              "      <th>3</th>\n",
              "      <td>A. Morin</td>\n",
              "      <td>Akata</td>\n",
              "      <td>1680</td>\n",
              "      <td>2015</td>\n",
              "      <td>70%</td>\n",
              "      <td>France</td>\n",
              "      <td>3.50</td>\n",
              "      <td></td>\n",
              "      <td>Togo</td>\n",
              "    </tr>\n",
              "    <tr>\n",
              "      <th>4</th>\n",
              "      <td>A. Morin</td>\n",
              "      <td>Quilla</td>\n",
              "      <td>1704</td>\n",
              "      <td>2015</td>\n",
              "      <td>70%</td>\n",
              "      <td>France</td>\n",
              "      <td>3.50</td>\n",
              "      <td></td>\n",
              "      <td>Peru</td>\n",
              "    </tr>\n",
              "  </tbody>\n",
              "</table>\n",
              "</div>"
            ],
            "text/plain": [
              "    Company      Species   REF  ...  Rating Type Country_collect\n",
              "0  A. Morin  Agua Grande  1876  ...    3.75             Sao Tome\n",
              "1  A. Morin        Kpime  1676  ...    2.75                 Togo\n",
              "2  A. Morin       Atsane  1676  ...    3.00                 Togo\n",
              "3  A. Morin        Akata  1680  ...    3.50                 Togo\n",
              "4  A. Morin       Quilla  1704  ...    3.50                 Peru\n",
              "\n",
              "[5 rows x 9 columns]"
            ]
          },
          "metadata": {
            "tags": []
          },
          "execution_count": 18
        }
      ]
    },
    {
      "cell_type": "code",
      "metadata": {
        "id": "xB4LQm4Dluq8",
        "colab_type": "code",
        "outputId": "eb0c06fe-eeb5-4b10-c865-ab31cc446861",
        "colab": {
          "base_uri": "https://localhost:8080/",
          "height": 206
        }
      },
      "source": [
        "# see last 5 rows\n",
        "chocolate_bar_df.tail()"
      ],
      "execution_count": 0,
      "outputs": [
        {
          "output_type": "execute_result",
          "data": {
            "text/html": [
              "<div>\n",
              "<style scoped>\n",
              "    .dataframe tbody tr th:only-of-type {\n",
              "        vertical-align: middle;\n",
              "    }\n",
              "\n",
              "    .dataframe tbody tr th {\n",
              "        vertical-align: top;\n",
              "    }\n",
              "\n",
              "    .dataframe thead th {\n",
              "        text-align: right;\n",
              "    }\n",
              "</style>\n",
              "<table border=\"1\" class=\"dataframe\">\n",
              "  <thead>\n",
              "    <tr style=\"text-align: right;\">\n",
              "      <th></th>\n",
              "      <th>Company</th>\n",
              "      <th>Species</th>\n",
              "      <th>REF</th>\n",
              "      <th>Review_year</th>\n",
              "      <th>Cocoa_percent</th>\n",
              "      <th>Company_location</th>\n",
              "      <th>Rating</th>\n",
              "      <th>Type</th>\n",
              "      <th>Country_collect</th>\n",
              "    </tr>\n",
              "  </thead>\n",
              "  <tbody>\n",
              "    <tr>\n",
              "      <th>1790</th>\n",
              "      <td>Zotter</td>\n",
              "      <td>Peru</td>\n",
              "      <td>647</td>\n",
              "      <td>2011</td>\n",
              "      <td>70%</td>\n",
              "      <td>Austria</td>\n",
              "      <td>3.75</td>\n",
              "      <td></td>\n",
              "      <td>Peru</td>\n",
              "    </tr>\n",
              "    <tr>\n",
              "      <th>1791</th>\n",
              "      <td>Zotter</td>\n",
              "      <td>Congo</td>\n",
              "      <td>749</td>\n",
              "      <td>2011</td>\n",
              "      <td>65%</td>\n",
              "      <td>Austria</td>\n",
              "      <td>3.00</td>\n",
              "      <td>Forastero</td>\n",
              "      <td>Congo</td>\n",
              "    </tr>\n",
              "    <tr>\n",
              "      <th>1792</th>\n",
              "      <td>Zotter</td>\n",
              "      <td>Kerala State</td>\n",
              "      <td>749</td>\n",
              "      <td>2011</td>\n",
              "      <td>65%</td>\n",
              "      <td>Austria</td>\n",
              "      <td>3.50</td>\n",
              "      <td>Forastero</td>\n",
              "      <td>India</td>\n",
              "    </tr>\n",
              "    <tr>\n",
              "      <th>1793</th>\n",
              "      <td>Zotter</td>\n",
              "      <td>Kerala State</td>\n",
              "      <td>781</td>\n",
              "      <td>2011</td>\n",
              "      <td>62%</td>\n",
              "      <td>Austria</td>\n",
              "      <td>3.25</td>\n",
              "      <td></td>\n",
              "      <td>India</td>\n",
              "    </tr>\n",
              "    <tr>\n",
              "      <th>1794</th>\n",
              "      <td>Zotter</td>\n",
              "      <td>Brazil, Mitzi Blue</td>\n",
              "      <td>486</td>\n",
              "      <td>2010</td>\n",
              "      <td>65%</td>\n",
              "      <td>Austria</td>\n",
              "      <td>3.00</td>\n",
              "      <td></td>\n",
              "      <td>Brazil</td>\n",
              "    </tr>\n",
              "  </tbody>\n",
              "</table>\n",
              "</div>"
            ],
            "text/plain": [
              "     Company             Species  REF  ...  Rating       Type Country_collect\n",
              "1790  Zotter                Peru  647  ...    3.75                       Peru\n",
              "1791  Zotter               Congo  749  ...    3.00  Forastero           Congo\n",
              "1792  Zotter        Kerala State  749  ...    3.50  Forastero           India\n",
              "1793  Zotter        Kerala State  781  ...    3.25                      India\n",
              "1794  Zotter  Brazil, Mitzi Blue  486  ...    3.00                     Brazil\n",
              "\n",
              "[5 rows x 9 columns]"
            ]
          },
          "metadata": {
            "tags": []
          },
          "execution_count": 19
        }
      ]
    },
    {
      "cell_type": "code",
      "metadata": {
        "id": "SKbUzC4Fl93L",
        "colab_type": "code",
        "outputId": "9639aca6-db4b-48b0-ff4d-0d28903b117e",
        "colab": {
          "base_uri": "https://localhost:8080/",
          "height": 35
        }
      },
      "source": [
        "# check NaN values in data\n",
        "chocolate_bar_df.isna().values.any()"
      ],
      "execution_count": 0,
      "outputs": [
        {
          "output_type": "execute_result",
          "data": {
            "text/plain": [
              "True"
            ]
          },
          "metadata": {
            "tags": []
          },
          "execution_count": 20
        }
      ]
    },
    {
      "cell_type": "code",
      "metadata": {
        "id": "U62984UOmxPD",
        "colab_type": "code",
        "outputId": "ade78cd1-925d-4bcf-9544-ad888f90b194",
        "colab": {
          "base_uri": "https://localhost:8080/",
          "height": 112
        }
      },
      "source": [
        "# List all NaN values\n",
        "chocolate_bar_df[chocolate_bar_df.isnull().any(axis=1)]"
      ],
      "execution_count": 0,
      "outputs": [
        {
          "output_type": "execute_result",
          "data": {
            "text/html": [
              "<div>\n",
              "<style scoped>\n",
              "    .dataframe tbody tr th:only-of-type {\n",
              "        vertical-align: middle;\n",
              "    }\n",
              "\n",
              "    .dataframe tbody tr th {\n",
              "        vertical-align: top;\n",
              "    }\n",
              "\n",
              "    .dataframe thead th {\n",
              "        text-align: right;\n",
              "    }\n",
              "</style>\n",
              "<table border=\"1\" class=\"dataframe\">\n",
              "  <thead>\n",
              "    <tr style=\"text-align: right;\">\n",
              "      <th></th>\n",
              "      <th>Company</th>\n",
              "      <th>Species</th>\n",
              "      <th>REF</th>\n",
              "      <th>Review_year</th>\n",
              "      <th>Cocoa_percent</th>\n",
              "      <th>Company_location</th>\n",
              "      <th>Rating</th>\n",
              "      <th>Type</th>\n",
              "      <th>Country_collect</th>\n",
              "    </tr>\n",
              "  </thead>\n",
              "  <tbody>\n",
              "    <tr>\n",
              "      <th>1072</th>\n",
              "      <td>Mast Brothers</td>\n",
              "      <td>Madagascar</td>\n",
              "      <td>999</td>\n",
              "      <td>2012</td>\n",
              "      <td>72%</td>\n",
              "      <td>U.S.A.</td>\n",
              "      <td>2.5</td>\n",
              "      <td>Trinitario</td>\n",
              "      <td>NaN</td>\n",
              "    </tr>\n",
              "    <tr>\n",
              "      <th>1544</th>\n",
              "      <td>Soma</td>\n",
              "      <td>Three Amigos(Chuao, Wild Bolivia, D.R.)</td>\n",
              "      <td>676</td>\n",
              "      <td>2011</td>\n",
              "      <td>70%</td>\n",
              "      <td>Canada</td>\n",
              "      <td>4.0</td>\n",
              "      <td>NaN</td>\n",
              "      <td>Ven, Bolivia, D.R.</td>\n",
              "    </tr>\n",
              "  </tbody>\n",
              "</table>\n",
              "</div>"
            ],
            "text/plain": [
              "            Company  ...     Country_collect\n",
              "1072  Mast Brothers  ...                 NaN\n",
              "1544           Soma  ...  Ven, Bolivia, D.R.\n",
              "\n",
              "[2 rows x 9 columns]"
            ]
          },
          "metadata": {
            "tags": []
          },
          "execution_count": 21
        }
      ]
    },
    {
      "cell_type": "code",
      "metadata": {
        "id": "_tEKX5WcnJSh",
        "colab_type": "code",
        "outputId": "d5cb67e5-54c9-41d9-ddcb-0f6c4cf61efc",
        "colab": {
          "base_uri": "https://localhost:8080/",
          "height": 237
        }
      },
      "source": [
        "# get all type of Company_location\n",
        "chocolate_bar_df[\"Company_location\"].unique()"
      ],
      "execution_count": 0,
      "outputs": [
        {
          "output_type": "execute_result",
          "data": {
            "text/plain": [
              "array(['France', 'U.S.A.', 'Fiji', 'Ecuador', 'Mexico', 'Switzerland',\n",
              "       'Netherlands', 'Spain', 'Peru', 'Canada', 'Italy', 'Brazil',\n",
              "       'U.K.', 'Australia', 'Wales', 'Belgium', 'Germany', 'Russia',\n",
              "       'Puerto Rico', 'Venezuela', 'Colombia', 'Japan', 'New Zealand',\n",
              "       'Costa Rica', 'South Korea', 'Amsterdam', 'Scotland', 'Martinique',\n",
              "       'Sao Tome', 'Argentina', 'Guatemala', 'South Africa', 'Bolivia',\n",
              "       'St. Lucia', 'Portugal', 'Singapore', 'Denmark', 'Vietnam',\n",
              "       'Grenada', 'Israel', 'India', 'Czech Republic',\n",
              "       'Domincan Republic', 'Finland', 'Madagascar', 'Philippines',\n",
              "       'Sweden', 'Poland', 'Austria', 'Honduras', 'Nicaragua',\n",
              "       'Lithuania', 'Niacragua', 'Chile', 'Ghana', 'Iceland', 'Eucador',\n",
              "       'Hungary', 'Suriname', 'Ireland'], dtype=object)"
            ]
          },
          "metadata": {
            "tags": []
          },
          "execution_count": 22
        }
      ]
    },
    {
      "cell_type": "code",
      "metadata": {
        "id": "gmDlKQqmpLub",
        "colab_type": "code",
        "outputId": "b6eeb1bf-0fc0-40ef-e4e0-b577ff2bab34",
        "colab": {
          "base_uri": "https://localhost:8080/",
          "height": 293
        }
      },
      "source": [
        "# get all of Type\n",
        "chocolate_bar_df[\"Type\"].unique()"
      ],
      "execution_count": 0,
      "outputs": [
        {
          "output_type": "execute_result",
          "data": {
            "text/plain": [
              "array(['\\xa0', 'Criollo', 'Trinitario', 'Forastero (Arriba)', 'Forastero',\n",
              "       'Forastero (Nacional)', 'Criollo, Trinitario',\n",
              "       'Criollo (Porcelana)', 'Blend', 'Trinitario (85% Criollo)',\n",
              "       'Forastero (Catongo)', 'Forastero (Parazinho)',\n",
              "       'Trinitario, Criollo', 'CCN51', 'Criollo (Ocumare)', 'Nacional',\n",
              "       'Criollo (Ocumare 61)', 'Criollo (Ocumare 77)',\n",
              "       'Criollo (Ocumare 67)', 'Criollo (Wild)', 'Beniano', 'Amazon mix',\n",
              "       'Trinitario, Forastero', 'Forastero (Arriba) ASS', 'Criollo, +',\n",
              "       'Amazon', 'Amazon, ICS', 'EET', 'Blend-Forastero,Criollo',\n",
              "       'Trinitario (Scavina)', 'Criollo, Forastero', 'Matina',\n",
              "       'Forastero(Arriba, CCN)', 'Nacional (Arriba)',\n",
              "       'Forastero (Arriba) ASSS', 'Forastero, Trinitario',\n",
              "       'Forastero (Amelonado)', nan, 'Trinitario, Nacional',\n",
              "       'Trinitario (Amelonado)', 'Trinitario, TCGA', 'Criollo (Amarru)'],\n",
              "      dtype=object)"
            ]
          },
          "metadata": {
            "tags": []
          },
          "execution_count": 23
        }
      ]
    },
    {
      "cell_type": "code",
      "metadata": {
        "id": "-NWPDpXEsdWl",
        "colab_type": "code",
        "outputId": "6bbd8aa1-e628-43f9-a83a-2cadf9558f36",
        "colab": {
          "base_uri": "https://localhost:8080/",
          "height": 568
        }
      },
      "source": [
        "# get all of Country_collect\n",
        "chocolate_bar_df[\"Country_collect\"].unique()"
      ],
      "execution_count": 0,
      "outputs": [
        {
          "output_type": "execute_result",
          "data": {
            "text/plain": [
              "array(['Sao Tome', 'Togo', 'Peru', 'Venezuela', 'Cuba', 'Panama',\n",
              "       'Madagascar', 'Brazil', 'Ecuador', 'Colombia', 'Burma',\n",
              "       'Papua New Guinea', 'Bolivia', 'Fiji', 'Mexico', 'Indonesia',\n",
              "       'Trinidad', 'Vietnam', 'Nicaragua', 'Tanzania',\n",
              "       'Dominican Republic', 'Ghana', 'Belize', '\\xa0', 'Jamaica',\n",
              "       'Grenada', 'Guatemala', 'Honduras', 'Costa Rica',\n",
              "       'Domincan Republic', 'Haiti', 'Congo', 'Philippines', 'Malaysia',\n",
              "       'Dominican Rep., Bali', 'Venez,Africa,Brasil,Peru,Mex', 'Gabon',\n",
              "       'Ivory Coast', 'Carribean', 'Sri Lanka', 'Puerto Rico', 'Uganda',\n",
              "       'Martinique', 'Sao Tome & Principe', 'Vanuatu', 'Australia',\n",
              "       'Liberia', 'Ecuador, Costa Rica', 'West Africa', 'Hawaii',\n",
              "       'St. Lucia', 'Cost Rica, Ven', 'Peru, Madagascar',\n",
              "       'Venezuela, Trinidad', 'Trinidad, Tobago',\n",
              "       'Ven, Trinidad, Ecuador', 'South America, Africa', 'India',\n",
              "       'Africa, Carribean, C. Am.', 'Tobago', 'Ven., Indonesia, Ecuad.',\n",
              "       'Trinidad-Tobago', 'Peru, Ecuador, Venezuela',\n",
              "       'Venezuela, Dom. Rep.', 'Colombia, Ecuador', 'Solomon Islands',\n",
              "       'Nigeria', 'Peru, Belize', 'Peru, Mad., Dom. Rep.', nan,\n",
              "       'PNG, Vanuatu, Mad', 'El Salvador', 'South America', 'Samoa',\n",
              "       'Ghana, Domin. Rep', 'Trinidad, Ecuador', 'Cameroon',\n",
              "       'Venezuela, Java', 'Venezuela/ Ghana', 'Venezuela, Ghana',\n",
              "       'Indonesia, Ghana', 'Peru(SMartin,Pangoa,nacional)', 'Principe',\n",
              "       'Central and S. America', 'Ven., Trinidad, Mad.',\n",
              "       'Carribean(DR/Jam/Tri)', 'Ghana & Madagascar',\n",
              "       'Ven.,Ecu.,Peru,Nic.', 'Madagascar & Ecuador',\n",
              "       'Guat., D.R., Peru, Mad., PNG', 'Peru, Dom. Rep',\n",
              "       'Dom. Rep., Madagascar', 'Gre., PNG, Haw., Haiti, Mad',\n",
              "       'Mad., Java, PNG', 'Ven, Bolivia, D.R.', 'DR, Ecuador, Peru',\n",
              "       'Suriname', 'Peru, Ecuador', 'Ecuador, Mad., PNG',\n",
              "       'Ghana, Panama, Ecuador', 'Venezuela, Carribean'], dtype=object)"
            ]
          },
          "metadata": {
            "tags": []
          },
          "execution_count": 24
        }
      ]
    },
    {
      "cell_type": "code",
      "metadata": {
        "id": "_2kQVdyQys2Z",
        "colab_type": "code",
        "outputId": "fa053182-01de-4227-8e6c-6a710a1e0bb3",
        "colab": {
          "base_uri": "https://localhost:8080/",
          "height": 219
        }
      },
      "source": [
        "# seeing top10 of species\n",
        "chocolate_bar_df[\"Species\"].value_counts().head(10)"
      ],
      "execution_count": 0,
      "outputs": [
        {
          "output_type": "execute_result",
          "data": {
            "text/plain": [
              "Madagascar            57\n",
              "Peru                  45\n",
              "Ecuador               42\n",
              "Dominican Republic    37\n",
              "Venezuela             21\n",
              "Chuao                 19\n",
              "Sambirano             19\n",
              "Ocumare               17\n",
              "Papua New Guinea      15\n",
              "Ghana                 15\n",
              "Name: Species, dtype: int64"
            ]
          },
          "metadata": {
            "tags": []
          },
          "execution_count": 25
        }
      ]
    },
    {
      "cell_type": "code",
      "metadata": {
        "id": "k-4yKDrDzZ0W",
        "colab_type": "code",
        "outputId": "7ae8cce7-368a-4906-b5c4-d232699ab3a7",
        "colab": {
          "base_uri": "https://localhost:8080/",
          "height": 112
        }
      },
      "source": [
        "chocolate_bar_df[chocolate_bar_df[\"Cocoa_percent\"] == chocolate_bar_df[\"Cocoa_percent\"].max()]"
      ],
      "execution_count": 0,
      "outputs": [
        {
          "output_type": "execute_result",
          "data": {
            "text/html": [
              "<div>\n",
              "<style scoped>\n",
              "    .dataframe tbody tr th:only-of-type {\n",
              "        vertical-align: middle;\n",
              "    }\n",
              "\n",
              "    .dataframe tbody tr th {\n",
              "        vertical-align: top;\n",
              "    }\n",
              "\n",
              "    .dataframe thead th {\n",
              "        text-align: right;\n",
              "    }\n",
              "</style>\n",
              "<table border=\"1\" class=\"dataframe\">\n",
              "  <thead>\n",
              "    <tr style=\"text-align: right;\">\n",
              "      <th></th>\n",
              "      <th>Company</th>\n",
              "      <th>Species</th>\n",
              "      <th>REF</th>\n",
              "      <th>Review_year</th>\n",
              "      <th>Cocoa_percent</th>\n",
              "      <th>Company_location</th>\n",
              "      <th>Rating</th>\n",
              "      <th>Type</th>\n",
              "      <th>Country_collect</th>\n",
              "    </tr>\n",
              "  </thead>\n",
              "  <tbody>\n",
              "    <tr>\n",
              "      <th>1120</th>\n",
              "      <td>Michel Cluizel</td>\n",
              "      <td>Noir Infini</td>\n",
              "      <td>81</td>\n",
              "      <td>2006</td>\n",
              "      <td>99%</td>\n",
              "      <td>France</td>\n",
              "      <td>2.00</td>\n",
              "      <td></td>\n",
              "      <td></td>\n",
              "    </tr>\n",
              "    <tr>\n",
              "      <th>1623</th>\n",
              "      <td>TCHO</td>\n",
              "      <td>Peru- Ecuador</td>\n",
              "      <td>915</td>\n",
              "      <td>2012</td>\n",
              "      <td>99%</td>\n",
              "      <td>U.S.A.</td>\n",
              "      <td>3.25</td>\n",
              "      <td></td>\n",
              "      <td>Peru, Ecuador</td>\n",
              "    </tr>\n",
              "  </tbody>\n",
              "</table>\n",
              "</div>"
            ],
            "text/plain": [
              "             Company        Species  REF  ...  Rating Type Country_collect\n",
              "1120  Michel Cluizel    Noir Infini   81  ...    2.00                     \n",
              "1623            TCHO  Peru- Ecuador  915  ...    3.25        Peru, Ecuador\n",
              "\n",
              "[2 rows x 9 columns]"
            ]
          },
          "metadata": {
            "tags": []
          },
          "execution_count": 26
        }
      ]
    },
    {
      "cell_type": "code",
      "metadata": {
        "id": "bba9SgdG0l5s",
        "colab_type": "code",
        "outputId": "ab988390-bec7-47d9-ed6c-da808ec14c43",
        "colab": {
          "base_uri": "https://localhost:8080/",
          "height": 35
        }
      },
      "source": [
        "# how many species\n",
        "chocolate_bar_df[\"Species\"].nunique()"
      ],
      "execution_count": 0,
      "outputs": [
        {
          "output_type": "execute_result",
          "data": {
            "text/plain": [
              "1039"
            ]
          },
          "metadata": {
            "tags": []
          },
          "execution_count": 27
        }
      ]
    },
    {
      "cell_type": "code",
      "metadata": {
        "id": "iX5HAGd40USg",
        "colab_type": "code",
        "outputId": "d50e8fe4-1cfd-4a82-c8cd-179d5db2ab66",
        "colab": {
          "base_uri": "https://localhost:8080/",
          "height": 219
        }
      },
      "source": [
        "# top 10 Company have largest species\n",
        "chocolate_bar_df[\"Company\"].value_counts().head(10)"
      ],
      "execution_count": 0,
      "outputs": [
        {
          "output_type": "execute_result",
          "data": {
            "text/plain": [
              "Soma                          47\n",
              "Bonnat                        27\n",
              "Fresco                        26\n",
              "Pralus                        25\n",
              "A. Morin                      23\n",
              "Guittard                      22\n",
              "Domori                        22\n",
              "Arete                         22\n",
              "Valrhona                      21\n",
              "Hotel Chocolat (Coppeneur)    19\n",
              "Name: Company, dtype: int64"
            ]
          },
          "metadata": {
            "tags": []
          },
          "execution_count": 28
        }
      ]
    },
    {
      "cell_type": "code",
      "metadata": {
        "id": "fwlnGiU7B_Vf",
        "colab_type": "code",
        "outputId": "c7e0d421-4270-4016-ecea-4fa564db2490",
        "colab": {
          "base_uri": "https://localhost:8080/",
          "height": 340
        }
      },
      "source": [
        "#Top 10 countries with highest amount of chocolate vendors\n",
        "chocolate_bar_df[\"Company_location\"].value_counts().head(10).plot('barh')"
      ],
      "execution_count": 0,
      "outputs": [
        {
          "output_type": "stream",
          "text": [
            "/usr/local/lib/python3.6/dist-packages/ipykernel_launcher.py:1: FutureWarning: `Series.plot()` should not be called with positional arguments, only keyword arguments. The order of positional arguments will change in the future. Use `Series.plot(kind='barh')` instead of `Series.plot('barh',)`.\n",
            "  \"\"\"Entry point for launching an IPython kernel.\n"
          ],
          "name": "stderr"
        },
        {
          "output_type": "execute_result",
          "data": {
            "text/plain": [
              "<matplotlib.axes._subplots.AxesSubplot at 0x7f3899724668>"
            ]
          },
          "metadata": {
            "tags": []
          },
          "execution_count": 59
        },
        {
          "output_type": "display_data",
          "data": {
            "image/png": "[encoded data removed]",
            "text/plain": [
              "<Figure size 432x288 with 1 Axes>"
            ]
          },
          "metadata": {
            "tags": []
          }
        }
      ]
    },
    {
      "cell_type": "code",
      "metadata": {
        "id": "JFUIgVH6I930",
        "colab_type": "code",
        "outputId": "4bd752df-8b58-4339-ff0a-a77551f65151",
        "colab": {
          "base_uri": "https://localhost:8080/",
          "height": 206
        }
      },
      "source": [
        "# Comparison of the Maximum Cocoa Percentage and the Mean Cocoa Percentage\n",
        "data_100=chocolate_bar_df[chocolate_bar_df['Cocoa_percent']=='100%']\n",
        "data_100.head()"
      ],
      "execution_count": 0,
      "outputs": [
        {
          "output_type": "execute_result",
          "data": {
            "text/html": [
              "<div>\n",
              "<style scoped>\n",
              "    .dataframe tbody tr th:only-of-type {\n",
              "        vertical-align: middle;\n",
              "    }\n",
              "\n",
              "    .dataframe tbody tr th {\n",
              "        vertical-align: top;\n",
              "    }\n",
              "\n",
              "    .dataframe thead th {\n",
              "        text-align: right;\n",
              "    }\n",
              "</style>\n",
              "<table border=\"1\" class=\"dataframe\">\n",
              "  <thead>\n",
              "    <tr style=\"text-align: right;\">\n",
              "      <th></th>\n",
              "      <th>Company</th>\n",
              "      <th>Species</th>\n",
              "      <th>REF</th>\n",
              "      <th>Review_year</th>\n",
              "      <th>Cocoa_percent</th>\n",
              "      <th>Company_location</th>\n",
              "      <th>Rating</th>\n",
              "      <th>Type</th>\n",
              "      <th>Country_collect</th>\n",
              "    </tr>\n",
              "  </thead>\n",
              "  <tbody>\n",
              "    <tr>\n",
              "      <th>125</th>\n",
              "      <td>Artisan du Chocolat</td>\n",
              "      <td>Venezuela</td>\n",
              "      <td>486</td>\n",
              "      <td>2010</td>\n",
              "      <td>100%</td>\n",
              "      <td>U.K.</td>\n",
              "      <td>1.75</td>\n",
              "      <td></td>\n",
              "      <td>Venezuela</td>\n",
              "    </tr>\n",
              "    <tr>\n",
              "      <th>245</th>\n",
              "      <td>Bonnat</td>\n",
              "      <td>One Hundred</td>\n",
              "      <td>81</td>\n",
              "      <td>2006</td>\n",
              "      <td>100%</td>\n",
              "      <td>France</td>\n",
              "      <td>1.50</td>\n",
              "      <td></td>\n",
              "      <td></td>\n",
              "    </tr>\n",
              "    <tr>\n",
              "      <th>249</th>\n",
              "      <td>Bouga Cacao (Tulicorp)</td>\n",
              "      <td>El Oro, Hacienda de Oro</td>\n",
              "      <td>341</td>\n",
              "      <td>2009</td>\n",
              "      <td>100%</td>\n",
              "      <td>Ecuador</td>\n",
              "      <td>1.50</td>\n",
              "      <td>Forastero (Arriba)</td>\n",
              "      <td>Ecuador</td>\n",
              "    </tr>\n",
              "    <tr>\n",
              "      <th>330</th>\n",
              "      <td>C-Amaro</td>\n",
              "      <td>Ecuador</td>\n",
              "      <td>1185</td>\n",
              "      <td>2013</td>\n",
              "      <td>100%</td>\n",
              "      <td>Italy</td>\n",
              "      <td>3.50</td>\n",
              "      <td></td>\n",
              "      <td>Ecuador</td>\n",
              "    </tr>\n",
              "    <tr>\n",
              "      <th>437</th>\n",
              "      <td>Claudio Corallo</td>\n",
              "      <td>Principe</td>\n",
              "      <td>252</td>\n",
              "      <td>2008</td>\n",
              "      <td>100%</td>\n",
              "      <td>Sao Tome</td>\n",
              "      <td>1.00</td>\n",
              "      <td>Forastero</td>\n",
              "      <td>Sao Tome &amp; Principe</td>\n",
              "    </tr>\n",
              "  </tbody>\n",
              "</table>\n",
              "</div>"
            ],
            "text/plain": [
              "                    Company  ...      Country_collect\n",
              "125     Artisan du Chocolat  ...            Venezuela\n",
              "245                  Bonnat  ...                     \n",
              "249  Bouga Cacao (Tulicorp)  ...              Ecuador\n",
              "330                 C-Amaro  ...              Ecuador\n",
              "437         Claudio Corallo  ...  Sao Tome & Principe\n",
              "\n",
              "[5 rows x 9 columns]"
            ]
          },
          "metadata": {
            "tags": []
          },
          "execution_count": 72
        }
      ]
    },
    {
      "cell_type": "code",
      "metadata": {
        "id": "ipnQO-BnJnSd",
        "colab_type": "code",
        "outputId": "6fe09d6c-c49b-401e-ab10-ec58e540f173",
        "colab": {
          "base_uri": "https://localhost:8080/",
          "height": 297
        }
      },
      "source": [
        "sns.countplot(x='Rating', data= data_100, color='red')"
      ],
      "execution_count": 0,
      "outputs": [
        {
          "output_type": "execute_result",
          "data": {
            "text/plain": [
              "<matplotlib.axes._subplots.AxesSubplot at 0x7f3897c889b0>"
            ]
          },
          "metadata": {
            "tags": []
          },
          "execution_count": 73
        },
        {
          "output_type": "display_data",
          "data": {
            "image/png": "[encoded data removed]",
            "text/plain": [
              "<Figure size 432x288 with 1 Axes>"
            ]
          },
          "metadata": {
            "tags": []
          }
        }
      ]
    },
    {
      "cell_type": "code",
      "metadata": {
        "id": "52tFxbOBKF-8",
        "colab_type": "code",
        "outputId": "08c6006a-8d97-49f4-cafb-88938449ddc4",
        "colab": {
          "base_uri": "https://localhost:8080/",
          "height": 206
        }
      },
      "source": [
        "data_70=chocolate_bar_df[chocolate_bar_df['Cocoa_percent']=='70%']\n",
        "data_70.head()"
      ],
      "execution_count": 0,
      "outputs": [
        {
          "output_type": "execute_result",
          "data": {
            "text/html": [
              "<div>\n",
              "<style scoped>\n",
              "    .dataframe tbody tr th:only-of-type {\n",
              "        vertical-align: middle;\n",
              "    }\n",
              "\n",
              "    .dataframe tbody tr th {\n",
              "        vertical-align: top;\n",
              "    }\n",
              "\n",
              "    .dataframe thead th {\n",
              "        text-align: right;\n",
              "    }\n",
              "</style>\n",
              "<table border=\"1\" class=\"dataframe\">\n",
              "  <thead>\n",
              "    <tr style=\"text-align: right;\">\n",
              "      <th></th>\n",
              "      <th>Company</th>\n",
              "      <th>Species</th>\n",
              "      <th>REF</th>\n",
              "      <th>Review_year</th>\n",
              "      <th>Cocoa_percent</th>\n",
              "      <th>Company_location</th>\n",
              "      <th>Rating</th>\n",
              "      <th>Type</th>\n",
              "      <th>Country_collect</th>\n",
              "    </tr>\n",
              "  </thead>\n",
              "  <tbody>\n",
              "    <tr>\n",
              "      <th>1</th>\n",
              "      <td>A. Morin</td>\n",
              "      <td>Kpime</td>\n",
              "      <td>1676</td>\n",
              "      <td>2015</td>\n",
              "      <td>70%</td>\n",
              "      <td>France</td>\n",
              "      <td>2.75</td>\n",
              "      <td></td>\n",
              "      <td>Togo</td>\n",
              "    </tr>\n",
              "    <tr>\n",
              "      <th>2</th>\n",
              "      <td>A. Morin</td>\n",
              "      <td>Atsane</td>\n",
              "      <td>1676</td>\n",
              "      <td>2015</td>\n",
              "      <td>70%</td>\n",
              "      <td>France</td>\n",
              "      <td>3.00</td>\n",
              "      <td></td>\n",
              "      <td>Togo</td>\n",
              "    </tr>\n",
              "    <tr>\n",
              "      <th>3</th>\n",
              "      <td>A. Morin</td>\n",
              "      <td>Akata</td>\n",
              "      <td>1680</td>\n",
              "      <td>2015</td>\n",
              "      <td>70%</td>\n",
              "      <td>France</td>\n",
              "      <td>3.50</td>\n",
              "      <td></td>\n",
              "      <td>Togo</td>\n",
              "    </tr>\n",
              "    <tr>\n",
              "      <th>4</th>\n",
              "      <td>A. Morin</td>\n",
              "      <td>Quilla</td>\n",
              "      <td>1704</td>\n",
              "      <td>2015</td>\n",
              "      <td>70%</td>\n",
              "      <td>France</td>\n",
              "      <td>3.50</td>\n",
              "      <td></td>\n",
              "      <td>Peru</td>\n",
              "    </tr>\n",
              "    <tr>\n",
              "      <th>5</th>\n",
              "      <td>A. Morin</td>\n",
              "      <td>Carenero</td>\n",
              "      <td>1315</td>\n",
              "      <td>2014</td>\n",
              "      <td>70%</td>\n",
              "      <td>France</td>\n",
              "      <td>2.75</td>\n",
              "      <td>Criollo</td>\n",
              "      <td>Venezuela</td>\n",
              "    </tr>\n",
              "  </tbody>\n",
              "</table>\n",
              "</div>"
            ],
            "text/plain": [
              "    Company   Species   REF  ...  Rating     Type Country_collect\n",
              "1  A. Morin     Kpime  1676  ...    2.75                     Togo\n",
              "2  A. Morin    Atsane  1676  ...    3.00                     Togo\n",
              "3  A. Morin     Akata  1680  ...    3.50                     Togo\n",
              "4  A. Morin    Quilla  1704  ...    3.50                     Peru\n",
              "5  A. Morin  Carenero  1315  ...    2.75  Criollo       Venezuela\n",
              "\n",
              "[5 rows x 9 columns]"
            ]
          },
          "metadata": {
            "tags": []
          },
          "execution_count": 74
        }
      ]
    },
    {
      "cell_type": "code",
      "metadata": {
        "id": "aAEP8Q0CKJUH",
        "colab_type": "code",
        "outputId": "43cc0e07-8b1e-47be-fe41-a1983ab044ca",
        "colab": {
          "base_uri": "https://localhost:8080/",
          "height": 297
        }
      },
      "source": [
        "sns.countplot(x='Rating', data= data_70, color='yellow')"
      ],
      "execution_count": 0,
      "outputs": [
        {
          "output_type": "execute_result",
          "data": {
            "text/plain": [
              "<matplotlib.axes._subplots.AxesSubplot at 0x7f3897bef390>"
            ]
          },
          "metadata": {
            "tags": []
          },
          "execution_count": 75
        },
        {
          "output_type": "display_data",
          "data": {
            "image/png": "[encoded data removed]",
            "text/plain": [
              "<Figure size 432x288 with 1 Axes>"
            ]
          },
          "metadata": {
            "tags": []
          }
        }
      ]
    },
    {
      "cell_type": "markdown",
      "metadata": {
        "id": "DwyRHMJjLr3M",
        "colab_type": "text"
      },
      "source": [
        "We can see that most chocolate bars that have a cocoa percent of 70% do much better than if they have more or less cocoa"
      ]
    },
    {
      "cell_type": "code",
      "metadata": {
        "id": "aLTZ2DNrE3he",
        "colab_type": "code",
        "outputId": "5741f3a0-040b-4b6b-c536-468418febcbe",
        "colab": {
          "base_uri": "https://localhost:8080/",
          "height": 421
        }
      },
      "source": [
        "# Which countries produce the highest-rated bars?\n",
        "data_high_rated = chocolate_bar_df.groupby('Country_collect')['Rating'].max().sort_values(ascending=False)\n",
        "data_high_rated.head(20)"
      ],
      "execution_count": 0,
      "outputs": [
        {
          "output_type": "execute_result",
          "data": {
            "text/plain": [
              "Country_collect\n",
              "                                5.0\n",
              "Venezuela                       5.0\n",
              "Guatemala                       4.0\n",
              "Sao Tome & Principe             4.0\n",
              "Sao Tome                        4.0\n",
              "Peru, Dom. Rep                  4.0\n",
              "Peru                            4.0\n",
              "Papua New Guinea                4.0\n",
              "Nicaragua                       4.0\n",
              "Madagascar                      4.0\n",
              "Jamaica                         4.0\n",
              "Indonesia                       4.0\n",
              "Haiti                           4.0\n",
              "Guat., D.R., Peru, Mad., PNG    4.0\n",
              "St. Lucia                       4.0\n",
              "Gre., PNG, Haw., Haiti, Mad     4.0\n",
              "Ghana                           4.0\n",
              "Ecuador                         4.0\n",
              "Dominican Republic              4.0\n",
              "Dom. Rep., Madagascar           4.0\n",
              "Name: Rating, dtype: float64"
            ]
          },
          "metadata": {
            "tags": []
          },
          "execution_count": 85
        }
      ]
    }
  ]
}
