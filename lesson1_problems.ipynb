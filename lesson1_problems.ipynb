{
  "nbformat": 4,
  "nbformat_minor": 0,
  "metadata": {
    "colab": {
      "name": "Copy of DAwP_Assignment_1.ipynb",
      "provenance": []
    },
    "kernelspec": {
      "name": "python3",
      "display_name": "Python 3"
    }
  },
  "cells": [
    {
      "cell_type": "markdown",
      "metadata": {
        "id": "jjZG7BNlbWtO",
        "colab_type": "text"
      },
      "source": [
        "![](https://i.imgur.com/0AUxkXt.png)"
      ]
    },
    {
      "cell_type": "markdown",
      "metadata": {
        "id": "jbpQzyjqbflM",
        "colab_type": "text"
      },
      "source": [
        "# Assignment 1 - The Hacker Rank\n",
        "\n",
        "HackerRank is a place where programmers from all over the world come together to solve problems in a wide range of Computer Science domains.\n",
        "\n",
        "As you solve more challenges, you earn points and move up the HackerRank Leaderboard.\n",
        "\n",
        "Looking for a job at an awesome company? You can get hired by solving [challenges](https://www.hackerrank.com/jobs/search)!\n",
        "\n",
        "It's cool. Let's establish your knowledge and fight for glory!\n",
        "\n",
        "But before that let's make it clear that.."
      ]
    },
    {
      "cell_type": "markdown",
      "metadata": {
        "id": "-ndmD4naciAN",
        "colab_type": "text"
      },
      "source": [
        "## Note-taking is IMPORTANT\n",
        "\n",
        "Blog: [Why is note-taking important](https://nickblackbourn.com/blog/why-is-note-taking-important/)\n",
        "\n",
        "Note taking isn’t just important for college students, it’s a valuable life skill.\n",
        "\n",
        "Effective note taking helps you to remember information and aids your understanding of that information. \n",
        "\n",
        "**Notes boost your understanding**\n",
        "\n",
        "By making notes, you force yourself to construct a conceptual mental representation of the ideas you are grappling with. It is this process that helps you comprehend the subject matter you are working with.\n",
        "\n",
        "**Notes are a repository of your thinking**\n",
        "\n",
        "When you need to recall something that you came across a while ago, you can go over the main ideas by looking over your notes. This is why good, comprehensive notes are so useful; they are a catalogue of the best ideas you’ve encountered, and what you thought about them.\n",
        "\n",
        "etc.\n",
        "\n",
        "\n",
        "\n",
        "\n",
        "\n",
        "\n",
        "\n"
      ]
    },
    {
      "cell_type": "markdown",
      "metadata": {
        "id": "IGvKPsdVfX-F",
        "colab_type": "text"
      },
      "source": [
        "## Requirements\n",
        "\n",
        "Pick 10 challenges on HackerRank about SQL and 5 about Python in **easy** level:\n",
        "\n",
        "[HackerRank - Domain SQL](https://www.hackerrank.com/domains/sql?filters%5Bdifficulty%5D%5B%5D=easy&filters%5Bsubdomains%5D%5B%5D=select)\n",
        "\n",
        "[HackerRank - Domain Python](https://www.hackerrank.com/domains/python?filters%5Bdifficulty%5D%5B%5D=easy)\n",
        "\n",
        "For each challenge:\n",
        "\n",
        "* Create a markdown cell first that describes the challenge.\n",
        "* Solve the challenge on HackerRank and copy your solution to a code cell below\n",
        "* (Optional) A short description about how you came up with the solution would be awesome."
      ]
    },
    {
      "cell_type": "markdown",
      "metadata": {
        "id": "higGK1Y5iAea",
        "colab_type": "text"
      },
      "source": [
        "## Example"
      ]
    },
    {
      "cell_type": "markdown",
      "metadata": {
        "id": "D2yU2FYDi4tj",
        "colab_type": "text"
      },
      "source": [
        "### SQL"
      ]
    },
    {
      "cell_type": "markdown",
      "metadata": {
        "id": "gu4DDH7Ki77C",
        "colab_type": "text"
      },
      "source": [
        "\n",
        "#### Problem 1\n",
        "\n",
        "Query all columns for all American cities in **CITY** with populations larger than 100000. The CountryCode for America is USA.\n",
        "\n",
        "**Input Format**\n",
        "\n",
        "The **CITY** table is described as follows:\n",
        "\n",
        "| Field | Type |\n",
        "|:----:|:---:|\n",
        "| ID | NUMBER |\n",
        "| NAME | VARCHAR2(17) |\n",
        "| COUNTRYCODE | VARCHAR2(3) |\n",
        "| DISTRICT | VARCHAR2(20) |\n",
        "| POPULATION | NUMBER |"
      ]
    },
    {
      "cell_type": "code",
      "metadata": {
        "id": "hhAwMjyhbT1b",
        "colab_type": "code",
        "colab": {}
      },
      "source": [
        "# Solution\n",
        "# SELECT * from city WHERE population>100000 AND countrycode='USA';"
      ],
      "execution_count": 0,
      "outputs": []
    },
    {
      "cell_type": "markdown",
      "metadata": {
        "id": "0AxyfiJijJ7T",
        "colab_type": "text"
      },
      "source": [
        "### Python"
      ]
    },
    {
      "cell_type": "markdown",
      "metadata": {
        "id": "PEW8LsB5jLqf",
        "colab_type": "text"
      },
      "source": [
        "#### Problem 1\n",
        "\n",
        "**Task** \n",
        "Given an integer, , perform the following conditional actions:\n",
        "\n",
        "* If `n` is odd, print *Weird*\n",
        "* If `n` is even and in the inclusive range of 2 to 5, print *Not Weird*\n",
        "* If `n` is even and in the inclusive range of 6 to 20, print *Weird*\n",
        "* If `n` is even and greater than 20, print *Not Weird*\n",
        "\n",
        "**Input Format**\n",
        "\n",
        "A single line containing a positive integer, .\n",
        "\n",
        "**Output Format**\n",
        "\n",
        "Print Weird if the number is weird; otherwise, print Not Weird."
      ]
    },
    {
      "cell_type": "code",
      "metadata": {
        "id": "JBOxgw0zjLC2",
        "colab_type": "code",
        "colab": {}
      },
      "source": [
        "n = int(input())\n",
        "\n",
        "if n % 2 == 1:\n",
        "    print('Weird')\n",
        "else:\n",
        "    if (n >= 2) and (n <= 5):\n",
        "        print('Not Weird')\n",
        "    elif (n >= 6) and (n <= 20):\n",
        "        print('Weird')\n",
        "    else:\n",
        "        print('Not Weird')"
      ],
      "execution_count": 0,
      "outputs": []
    },
    {
      "cell_type": "markdown",
      "metadata": {
        "id": "a-Q3VE7YkA9A",
        "colab_type": "text"
      },
      "source": [
        "## Your turn\n",
        "\n",
        "Good luck and have fun!"
      ]
    },
    {
      "cell_type": "markdown",
      "metadata": {
        "id": "Kgnda2mvfmqz",
        "colab_type": "text"
      },
      "source": [
        "## SQL"
      ]
    },
    {
      "cell_type": "markdown",
      "metadata": {
        "id": "2Eq9NWa5fwll",
        "colab_type": "text"
      },
      "source": [
        "### Challenge 1\n",
        "Query the names of all American cities in CITY with populations larger than 120000. The CountryCode for America is USA.\n",
        "\n",
        "**Input Format**\n",
        "\n",
        "The **CITY** table is described as follows:\n",
        "\n",
        "| Field | Type |\n",
        "|:----:|:---:|\n",
        "| ID | NUMBER |\n",
        "| NAME | VARCHAR2(17) |\n",
        "| COUNTRYCODE | VARCHAR2(3) |\n",
        "| DISTRICT | VARCHAR2(20) |\n",
        "| POPULATION | NUMBER |"
      ]
    },
    {
      "cell_type": "code",
      "metadata": {
        "id": "RdkdZgjaj0To",
        "colab_type": "code",
        "colab": {}
      },
      "source": [
        "# select name from city where countrycode = 'USA' and population > 120000;"
      ],
      "execution_count": 0,
      "outputs": []
    },
    {
      "cell_type": "markdown",
      "metadata": {
        "id": "sgTGW4bkg5aU",
        "colab_type": "text"
      },
      "source": [
        "### Challenge 2\n",
        "Query all columns (attributes) for every row in the CITY table.\n",
        "\n",
        "**Input Format**\n",
        "\n",
        "The **CITY** table is described as follows:\n",
        "\n",
        "| Field | Type |\n",
        "|:----:|:---:|\n",
        "| ID | NUMBER |\n",
        "| NAME | VARCHAR2(17) |\n",
        "| COUNTRYCODE | VARCHAR2(3) |\n",
        "| DISTRICT | VARCHAR2(20) |\n",
        "| POPULATION | NUMBER |"
      ]
    },
    {
      "cell_type": "code",
      "metadata": {
        "id": "-e3akO0Gj_gk",
        "colab_type": "code",
        "colab": {}
      },
      "source": [
        "# select * from city;"
      ],
      "execution_count": 0,
      "outputs": []
    },
    {
      "cell_type": "markdown",
      "metadata": {
        "id": "QCqEXDHRhb1l",
        "colab_type": "text"
      },
      "source": [
        "### Challenge 3\n",
        "Query all columns for a city in CITY with the ID 1661.\n",
        "\n",
        "**Input Format**\n",
        "\n",
        "The **CITY** table is described as follows:\n",
        "\n",
        "| Field | Type |\n",
        "|:----:|:---:|\n",
        "| ID | NUMBER |\n",
        "| NAME | VARCHAR2(17) |\n",
        "| COUNTRYCODE | VARCHAR2(3) |\n",
        "| DISTRICT | VARCHAR2(20) |\n",
        "| POPULATION | NUMBER |"
      ]
    },
    {
      "cell_type": "code",
      "metadata": {
        "id": "TyDVpBb9hqhx",
        "colab_type": "code",
        "colab": {}
      },
      "source": [
        "# select * from city where id = '1661';"
      ],
      "execution_count": 0,
      "outputs": []
    },
    {
      "cell_type": "markdown",
      "metadata": {
        "id": "gSFDq6cdh5B6",
        "colab_type": "text"
      },
      "source": [
        "### Challenge 4\n",
        "Query all attributes of every Japanese city in the CITY table. The COUNTRYCODE for Japan is JPN.\n",
        "\n",
        "**Input Format**\n",
        "\n",
        "The **CITY** table is described as follows:\n",
        "\n",
        "| Field | Type |\n",
        "|:----:|:---:|\n",
        "| ID | NUMBER |\n",
        "| NAME | VARCHAR2(17) |\n",
        "| COUNTRYCODE | VARCHAR2(3) |\n",
        "| DISTRICT | VARCHAR2(20) |\n",
        "| POPULATION | NUMBER |"
      ]
    },
    {
      "cell_type": "code",
      "metadata": {
        "id": "gN0b6y25iJeJ",
        "colab_type": "code",
        "colab": {}
      },
      "source": [
        "# select * from city where countrycode = 'JPN';"
      ],
      "execution_count": 0,
      "outputs": []
    },
    {
      "cell_type": "markdown",
      "metadata": {
        "id": "Ui2If9ChidJB",
        "colab_type": "text"
      },
      "source": [
        "### Challenge 5\n",
        "Query the names of all the Japanese cities in the CITY table. The COUNTRYCODE for Japan is JPN.\n",
        "\n",
        "**Input Format**\n",
        "\n",
        "The **CITY** table is described as follows:\n",
        "\n",
        "| Field | Type |\n",
        "|:----:|:---:|\n",
        "| ID | NUMBER |\n",
        "| NAME | VARCHAR2(17) |\n",
        "| COUNTRYCODE | VARCHAR2(3) |\n",
        "| DISTRICT | VARCHAR2(20) |\n",
        "| POPULATION | NUMBER |"
      ]
    },
    {
      "cell_type": "code",
      "metadata": {
        "id": "qc5GGBc9iqkj",
        "colab_type": "code",
        "colab": {}
      },
      "source": [
        "# select name from city where countrycode = 'JPN';"
      ],
      "execution_count": 0,
      "outputs": []
    },
    {
      "cell_type": "markdown",
      "metadata": {
        "id": "hIOWSea6i1Et",
        "colab_type": "text"
      },
      "source": [
        "### Challenge 6\n",
        "Query a list of CITY and STATE from the STATION table.\n",
        "\n",
        "**Input Format**\n",
        "\n",
        "The **STATION** table is described as follows:\n",
        "\n",
        "| Field | Type |\n",
        "|:----:|:---:|\n",
        "| ID | NUMBER |\n",
        "| CITY | VARCHAR2(21) |\n",
        "| STATE | VARCHAR2(2) |\n",
        "| LAT_N | NUMBER |\n",
        "| LONG_W | NUMBER |\n",
        "\n",
        "where LAT_N is the northern latitude and LONG_W is the western longitude."
      ]
    },
    {
      "cell_type": "code",
      "metadata": {
        "id": "pH_Y-Wjbjatn",
        "colab_type": "code",
        "colab": {}
      },
      "source": [
        "# SELECT CITY , STATE FROM STATION;"
      ],
      "execution_count": 0,
      "outputs": []
    },
    {
      "cell_type": "markdown",
      "metadata": {
        "id": "baBLsE-SjuPu",
        "colab_type": "text"
      },
      "source": [
        "### Challenge 7\n",
        "Query a list of CITY names from **STATION** with even ID numbers only. You may print the results in any order, but must exclude duplicates from your answer.\n",
        "\n",
        "**Input Format**\n",
        "\n",
        "The **STATION** table is described as follows:\n",
        "\n",
        "| Field | Type |\n",
        "|:----:|:---:|\n",
        "| ID | NUMBER |\n",
        "| CITY | VARCHAR2(21) |\n",
        "| STATE | VARCHAR2(2) |\n",
        "| LAT_N | NUMBER |\n",
        "| LONG_W | NUMBER |\n",
        "\n",
        "where LAT_N is the northern latitude and LONG_W is the western longitude."
      ]
    },
    {
      "cell_type": "code",
      "metadata": {
        "id": "GQU5Hx-Bj7qt",
        "colab_type": "code",
        "colab": {}
      },
      "source": [
        "# select DISTINCT(city) from station where id % 2 = 0;"
      ],
      "execution_count": 0,
      "outputs": []
    },
    {
      "cell_type": "markdown",
      "metadata": {
        "id": "y-IWbV2AliSU",
        "colab_type": "text"
      },
      "source": [
        "### Challenge 8\n",
        "\n",
        "Let N be the number of CITY entries in **STATION**, and let N' be the number of distinct CITY names in **STATION**; query the value of N - N' from **STATION**. In other words, find the difference between the total number of CITY entries in the table and the number of distinct CITY entries in the table.\n",
        "\n",
        "**Input Format**\n",
        "\n",
        "The **STATION** table is described as follows:\n",
        "\n",
        "| Field | Type |\n",
        "|:----:|:---:|\n",
        "| ID | NUMBER |\n",
        "| CITY | VARCHAR2(21) |\n",
        "| STATE | VARCHAR2(2) |\n",
        "| LAT_N | NUMBER |\n",
        "| LONG_W | NUMBER |\n",
        "\n",
        "where LAT_N is the northern latitude and LONG_W is the western longitude."
      ]
    },
    {
      "cell_type": "code",
      "metadata": {
        "id": "yd7flWVcmMt1",
        "colab_type": "code",
        "colab": {}
      },
      "source": [
        "# select count(CITY)-count(distinct(CITY)) from station;"
      ],
      "execution_count": 0,
      "outputs": []
    },
    {
      "cell_type": "markdown",
      "metadata": {
        "id": "oKthl1CWmppX",
        "colab_type": "text"
      },
      "source": [
        "### Challenge 9\n",
        "Query the two cities in **STATION** with the shortest and longest CITY names, as well as their respective lengths (i.e.: number of characters in the name). If there is more than one smallest or largest city, choose the one that comes first when ordered alphabetically.\n",
        "\n",
        "**Input Format**\n",
        "\n",
        "The **STATION** table is described as follows:\n",
        "\n",
        "| Field | Type |\n",
        "|:----:|:---:|\n",
        "| ID | NUMBER |\n",
        "| CITY | VARCHAR2(21) |\n",
        "| STATE | VARCHAR2(2) |\n",
        "| LAT_N | NUMBER |\n",
        "| LONG_W | NUMBER |\n",
        "\n",
        "where LAT_N is the northern latitude and LONG_W is the western longitude.\n",
        "\n",
        "**Sample Input**\n",
        "\n",
        "Let's sa that CITY only has four entries: DEF, ABC, PQRS and WXY\n",
        "\n",
        "**Sample Output**\n",
        "\n",
        "```\n",
        "ABC 3\n",
        "PQRS 4\n",
        "```\n",
        "**Explanation**\n",
        "\n",
        "\n",
        "When ordered alphabetically, the CITY names are listed as ABC, DEF, PQRS, and WXY, with the respective lengths  and . The longest-named city is obviously PQRS, but there are  options for shortest-named city; we choose ABC, because it comes first alphabetically.\n",
        "\n",
        "**Note**\n",
        "**You can write two separate queries to get the desired output. It need not be a single query.**"
      ]
    },
    {
      "cell_type": "code",
      "metadata": {
        "id": "WeS-zHs5nbTP",
        "colab_type": "code",
        "colab": {}
      },
      "source": [
        "# select TOP 1 city, len(city) from station order by len(city) DESC,city ASC;\n",
        "# select TOP 1 city, len(city) from station order by len(city) asc ,city asc;  "
      ],
      "execution_count": 0,
      "outputs": []
    },
    {
      "cell_type": "markdown",
      "metadata": {
        "id": "xPP-p4smqW8g",
        "colab_type": "text"
      },
      "source": [
        "### Challenge 10\n",
        "\n",
        "Query the list of CITY names starting with vowels (i.e., a, e, i, o, or u) from **STATION**. Your result cannot contain duplicates.\n",
        "\n",
        "**Input Format**\n",
        "\n",
        "The **STATION** table is described as follows:\n",
        "\n",
        "| Field | Type |\n",
        "|:----:|:---:|\n",
        "| ID | NUMBER |\n",
        "| CITY | VARCHAR2(21) |\n",
        "| STATE | VARCHAR2(2) |\n",
        "| LAT_N | NUMBER |\n",
        "| LONG_W | NUMBER |\n",
        "\n",
        "where LAT_N is the northern latitude and LONG_W is the western longitude.\n"
      ]
    },
    {
      "cell_type": "code",
      "metadata": {
        "id": "36GtwbaOqkrQ",
        "colab_type": "code",
        "colab": {}
      },
      "source": [
        "# select distinct(city) from station where city LIKE 'A%' or city LIKE 'I%' or city LIKE 'U%' or city LIKE 'E%' or city LIKE 'O%';"
      ],
      "execution_count": 0,
      "outputs": []
    },
    {
      "cell_type": "markdown",
      "metadata": {
        "id": "EUqZfHVgrjtj",
        "colab_type": "text"
      },
      "source": [
        "## PYTHON"
      ]
    },
    {
      "cell_type": "markdown",
      "metadata": {
        "id": "bhRywa42rmSZ",
        "colab_type": "text"
      },
      "source": [
        "## Challenge 1\n",
        "\n",
        "**Task** \n",
        "Read two integers from STDIN and print three lines where:\n",
        "\n",
        "1.   The first line contains the sum of the two numbers.\n",
        "2.   The second line contains the difference of the two numbers (first - second).\n",
        "3.   The third line contains the product of the two numbers.\n",
        "\n",
        "**Input Format**\n",
        "\n",
        "The first line contains the first integer, . The second line contains the second integer, .\n",
        "\n"
      ]
    },
    {
      "cell_type": "code",
      "metadata": {
        "id": "2VNXz7R2tu97",
        "colab_type": "code",
        "outputId": "4535c926-be2f-42f3-f6f0-5ae40b7385f0",
        "colab": {
          "base_uri": "https://localhost:8080/",
          "height": 102
        }
      },
      "source": [
        "if __name__ == '__main__':\n",
        "    a = int(input())\n",
        "    b = int(input())\n",
        "\n",
        "    print(a+b)\n",
        "    print(a-b)\n",
        "    print(a*b)\n"
      ],
      "execution_count": 0,
      "outputs": [
        {
          "output_type": "stream",
          "text": [
            "3\n",
            "4\n",
            "7\n",
            "-1\n",
            "12\n"
          ],
          "name": "stdout"
        }
      ]
    },
    {
      "cell_type": "markdown",
      "metadata": {
        "id": "2BPgR0y4u3oB",
        "colab_type": "text"
      },
      "source": [
        "## Challenge 2\n",
        "\n",
        "**Task** \n",
        "\n",
        "Read two integers and print two lines. The first line should contain integer division,` a // b` . The second line should contain float division,  `a/ b`.\n",
        "\n",
        "You don't need to perform any rounding or formatting operations.\n",
        "\n",
        "**Input Format**\n",
        "\n",
        "The first line contains the first integer, a. The second line contains the second integer, b.\n",
        "\n",
        "**Output Format**\n",
        "\n",
        "Print the two lines as described above."
      ]
    },
    {
      "cell_type": "code",
      "metadata": {
        "id": "UgGcQZ2YzRwa",
        "colab_type": "code",
        "colab": {}
      },
      "source": [
        "if __name__ == '__main__':\n",
        "    a = int(input())\n",
        "    b = int(input())\n",
        "    print(a//b)\n",
        "    print(a/b)"
      ],
      "execution_count": 0,
      "outputs": []
    },
    {
      "cell_type": "markdown",
      "metadata": {
        "id": "kSuoPfTVz-Tx",
        "colab_type": "text"
      },
      "source": [
        "## Challenge 3\n",
        "\n",
        "**Task** \n",
        "Read an integer N. For all non-negative integers i < N, print i^2. See the sample for details.\n",
        "\n",
        "**Input Format**\n",
        "\n",
        "The first and only line contains the integer, N.\n",
        "\n",
        "**Constraints**\n",
        "\n",
        "1<=N<=20\n",
        "\n",
        "\n",
        "**Output Format**\n",
        "\n",
        "Print N lines, one corresponding to each ."
      ]
    },
    {
      "cell_type": "code",
      "metadata": {
        "id": "14krxcZ50tmR",
        "colab_type": "code",
        "colab": {}
      },
      "source": [
        "if __name__ == '__main__':\n",
        "    n = int(input())\n",
        "    for i in range(n):\n",
        "        print(i**2)"
      ],
      "execution_count": 0,
      "outputs": []
    },
    {
      "cell_type": "markdown",
      "metadata": {
        "id": "1Bj3fIXa2BdM",
        "colab_type": "text"
      },
      "source": [
        "## Challenge 4\n",
        "We add a Leap Day on February 29, almost every four years. The leap day is an extra, or intercalary day and we add it to the shortest month of the year, February. \n",
        "In the Gregorian calendar three criteria must be taken into account to identify leap years:\n",
        "\n",
        "\n",
        "*   The year can be evenly divided by 4, is a leap year, unless:\n",
        "*   The year can be evenly divided by 100, it is NOT a leap year, unless:\n",
        "*   The year is also evenly divisible by 400. Then it is a leap year.\n",
        "\n",
        "This means that in the Gregorian calendar, the years 2000 and 2400 are leap years, while 1800, 1900, 2100, 2200, 2300 and 2500 are NOT leap years\n",
        "\n",
        "**Task** \n",
        "\n",
        "You are given the year, and you have to write a function to check if the year is leap or not.\n",
        "\n",
        "Note that you have to complete the function and remaining code is given as template.\n",
        "\n",
        "**Input Format**\n",
        "\n",
        "Read y, the year that needs to be checked.\n",
        "\n",
        "**Constraints**\n",
        "\n",
        "```\n",
        "1900<=y<=10^5\n",
        "```\n",
        "\n",
        "\n",
        "**Output Format**\n",
        "\n",
        "Output is taken care of by the template. Your function must return a boolean value (True/False)"
      ]
    },
    {
      "cell_type": "code",
      "metadata": {
        "id": "PiHrPRGB3E-j",
        "colab_type": "code",
        "colab": {}
      },
      "source": [
        "def is_leap(year):\n",
        "    leap = False\n",
        "    \n",
        "    if (((year % 4 == 0) and (year % 100 != 0)) or (year % 400 == 0)):\n",
        "        leap = True\n",
        "    \n",
        "    return leap\n",
        "\n",
        "year = int(input())"
      ],
      "execution_count": 0,
      "outputs": []
    },
    {
      "cell_type": "markdown",
      "metadata": {
        "id": "tI2OpSXS38AS",
        "colab_type": "text"
      },
      "source": [
        "## Challenge 5\n",
        "Read an integer N.\n",
        "\n",
        "Without using any string methods, try to print the following:\n",
        "\n",
        "123...N\n",
        "\n",
        "Note that \"\" represents the values in between.\n",
        "\n",
        "**Input Format**\n",
        "\n",
        "The first line contains an integer N.\n",
        "\n",
        "**Output Format**\n",
        "\n",
        "Output the answer as explained in the task.\n",
        "\n"
      ]
    },
    {
      "cell_type": "code",
      "metadata": {
        "id": "o4Gp1vEo5Cj9",
        "colab_type": "code",
        "colab": {}
      },
      "source": [
        "if __name__ == '__main__':\n",
        "    n = int(input())\n",
        "    for i in range(1,n+1):\n",
        "        print(i,end='')\n",
        "    print()\n"
      ],
      "execution_count": 0,
      "outputs": []
    }
  ]
}